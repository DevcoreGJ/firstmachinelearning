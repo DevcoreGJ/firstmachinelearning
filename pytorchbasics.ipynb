import torch

x = torch.Tensor([5,4])
y = torch.Tensor([2,1])
'''
#print(mathit(9, 1)) # math it directly handled

outcome = mathit(9,1) #mathit inderictely hadled by var

print(outcome * 20) # function var handled by var can be 
'''					# manipulated
outcome = x*y
print(outcome)
